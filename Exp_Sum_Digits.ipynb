{
 "cells": [
  {
   "cell_type": "code",
   "execution_count": 1,
   "metadata": {},
   "outputs": [],
   "source": [
    "from matplotlib import pyplot as plt\n",
    "import numpy as np\n",
    "import itertools as it\n",
    "from tqdm import tqdm"
   ]
  },
  {
   "cell_type": "code",
   "execution_count": 2,
   "metadata": {},
   "outputs": [
    {
     "name": "stdout",
     "output_type": "stream",
     "text": [
      "Checking numbers of 1 digits...\n",
      "(1,) 1\n",
      "Done.\n",
      "\n",
      "Checking numbers of 2 digits...\n",
      "Done.\n",
      "\n",
      "Checking numbers of 3 digits...\n",
      "Done.\n",
      "\n",
      "Checking numbers of 4 digits...\n",
      "(5, 3, 4, 3) 3435\n",
      "Done.\n",
      "\n",
      "Checking numbers of 5 digits...\n",
      "Done.\n",
      "\n",
      "Checking numbers of 6 digits...\n",
      "Done.\n",
      "\n",
      "Checking numbers of 7 digits...\n",
      "Done.\n",
      "\n",
      "Checking numbers of 8 digits...\n",
      "Done.\n",
      "\n",
      "Checking numbers of 9 digits...\n",
      "Done.\n",
      "\n"
     ]
    }
   ],
   "source": [
    "# The question:\n",
    "# Which integers can be written as the sum of their digits\n",
    "# each to the power of themselves? \n",
    "# (eg: A**A + B**B + C**C = A*100 + B*10 + C)\n",
    "\n",
    "digit = [i for i in range(1,10)]\n",
    "\n",
    "for num_digits in range(1, 10):\n",
    "    \n",
    "    print(\"Checking numbers of\", num_digits, \"digits...\")\n",
    "    \n",
    "    for digits in it.product(digit, repeat=num_digits):\n",
    "        exp_sum = 0\n",
    "        dig_sum = 0\n",
    "        \n",
    "        for n in range(num_digits):\n",
    "            exp_sum += digits[n]**digits[n]\n",
    "            dig_sum += digits[n]*10**n\n",
    "            \n",
    "        if exp_sum == dig_sum:\n",
    "            print(digits, exp_sum)\n",
    "    \n",
    "    print(\"Done.\\n\")"
   ]
  },
  {
   "cell_type": "code",
   "execution_count": 4,
   "metadata": {},
   "outputs": [
    {
     "name": "stderr",
     "output_type": "stream",
     "text": [
      "  0%|          | 40612/1000000000 [00:00<1:26:31, 192626.97it/s]"
     ]
    },
    {
     "name": "stdout",
     "output_type": "stream",
     "text": [
      "1\n",
      "3435\n"
     ]
    },
    {
     "name": "stderr",
     "output_type": "stream",
     "text": [
      "100%|██████████| 1000000000/1000000000 [2:00:29<00:00, 138314.48it/s] \n"
     ]
    }
   ],
   "source": [
    "num_digits = 9\n",
    "for i in tqdm(range(0, 10**num_digits)):\n",
    "    exp_sum = 0\n",
    "    for j in str(i):\n",
    "        exp_sum += int(j)**int(j)\n",
    "    if exp_sum == i:\n",
    "        print(i)\n",
    "        "
   ]
  },
  {
   "cell_type": "code",
   "execution_count": 6,
   "metadata": {},
   "outputs": [
    {
     "data": {
      "image/png": "[encoded data removed]",
      "text/plain": [
       "<Figure size 432x288 with 1 Axes>"
      ]
     },
     "metadata": {
      "needs_background": "light"
     },
     "output_type": "display_data"
    }
   ],
   "source": [
    "# This proves that the upper limit for possibility for exp_sum = dig_sum is 9 digits\n",
    "\n",
    "x = np.linspace(0, 10, 100000)\n",
    "y1 = x*9**9\n",
    "y2 = 10**x-1\n",
    "\n",
    "plt.plot(x, y1)\n",
    "plt.plot(x, y2)\n",
    "\n",
    "plt.grid()\n",
    "plt.show()"
   ]
  },
  {
   "cell_type": "code",
   "execution_count": null,
   "metadata": {},
   "outputs": [],
   "source": []
  }
 ],
 "metadata": {
  "kernelspec": {
   "display_name": "Python 3",
   "language": "python",
   "name": "python3"
  },
  "language_info": {
   "codemirror_mode": {
    "name": "ipython",
    "version": 3
   },
   "file_extension": ".py",
   "mimetype": "text/x-python",
   "name": "python",
   "nbconvert_exporter": "python",
   "pygments_lexer": "ipython3",
   "version": "3.6.9"
  }
 },
 "nbformat": 4,
 "nbformat_minor": 4
}
