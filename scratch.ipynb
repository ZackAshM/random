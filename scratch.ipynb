{
 "cells": [
  {
   "cell_type": "code",
   "execution_count": 17,
   "metadata": {},
   "outputs": [
    {
     "name": "stdout",
     "output_type": "stream",
     "text": [
      "49\n",
      "0.0\n"
     ]
    }
   ],
   "source": [
    "# Question: given an infinite decimal number, what decimal digit places exhibit a given condition?\n",
    "# eg. for pi = 3.14..., which decimal digits equal their place?\n",
    "# eg. for e = 2.718..., which decimal digits are congruent modulo place to their place?\n",
    "\n",
    "# how to handle floating point precision problem...?\n",
    "\n",
    "import numpy as np\n",
    "\n",
    "def decimal_search(n, condition_func=None, max_place=10):\n",
    "    \"\"\"\n",
    "    n: infinite decimal number (eg. pi, e, sqrt(2), ...)\n",
    "    condition_func(a, b): a function checking the relation between two numbers (a and b)\n",
    "    \"\"\"\n",
    "    \n",
    "    place = 0\n",
    "    number = n\n",
    "    while place < max_place:\n",
    "        remove_top = int(number)\n",
    "        number = (number - remove_top)*10\n",
    "        place += 1\n",
    "        if number == 0:\n",
    "            print(place)\n",
    "            break\n",
    "    \n",
    "    return number\n",
    "\n",
    "foo = decimal_search(np.pi, max_place=100)\n",
    "print(foo)"
   ]
  },
  {
   "cell_type": "code",
   "execution_count": 36,
   "metadata": {},
   "outputs": [
    {
     "name": "stdout",
     "output_type": "stream",
     "text": [
      "3.141592653589793\n",
      "0.0\n"
     ]
    }
   ],
   "source": [
    "foobar = np.pi*10**18\n",
    "print(np.pi)\n",
    "print(foobar - int(foobar))"
   ]
  },
  {
   "cell_type": "code",
   "execution_count": null,
   "metadata": {},
   "outputs": [],
   "source": []
  }
 ],
 "metadata": {
  "kernelspec": {
   "display_name": "Python 3",
   "language": "python",
   "name": "python3"
  },
  "language_info": {
   "codemirror_mode": {
    "name": "ipython",
    "version": 3
   },
   "file_extension": ".py",
   "mimetype": "text/x-python",
   "name": "python",
   "nbconvert_exporter": "python",
   "pygments_lexer": "ipython3",
   "version": "3.6.9"
  }
 },
 "nbformat": 4,
 "nbformat_minor": 4
}
