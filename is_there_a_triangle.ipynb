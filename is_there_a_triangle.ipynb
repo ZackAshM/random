{
 "cells": [
  {
   "cell_type": "markdown",
   "metadata": {},
   "source": [
    "# Where is the Triangle?"
   ]
  },
  {
   "cell_type": "code",
   "execution_count": 69,
   "metadata": {},
   "outputs": [
    {
     "name": "stdout",
     "output_type": "stream",
     "text": [
      "[[0. 0. 0. ... 0. 0. 0.]\n",
      " [0. 0. 0. ... 0. 0. 0.]\n",
      " [0. 0. 0. ... 0. 0. 0.]\n",
      " ...\n",
      " [0. 0. 0. ... 0. 0. 0.]\n",
      " [0. 0. 0. ... 0. 0. 0.]\n",
      " [0. 0. 0. ... 0. 0. 0.]]\n"
     ]
    }
   ],
   "source": [
    "n = 100\n",
    "E = 2\n",
    "A = np.zeros((n, n))\n",
    "for _ in range(E):\n",
    "    i = random.randint(0, n-1)\n",
    "    j = random.randint(0, n-1)\n",
    "    while i == j:\n",
    "        j = random.randint(0, n-1)\n",
    "    A[i][j] = 1\n",
    "print(A)"
   ]
  },
  {
   "cell_type": "code",
   "execution_count": 70,
   "metadata": {
    "scrolled": true
   },
   "outputs": [
    {
     "name": "stdout",
     "output_type": "stream",
     "text": [
      "[[0. 0. 0. ... 0. 0. 0.]\n",
      " [0. 0. 0. ... 0. 0. 0.]\n",
      " [0. 0. 0. ... 0. 0. 0.]\n",
      " ...\n",
      " [0. 0. 0. ... 0. 0. 0.]\n",
      " [0. 0. 0. ... 0. 0. 0.]\n",
      " [0. 0. 0. ... 0. 0. 0.]]\n",
      "There is no triangle.\n",
      "'has_triangle'  9.90 ms\n"
     ]
    }
   ],
   "source": [
    "# Not so smart way\n",
    "\n",
    "import numpy as np\n",
    "import random\n",
    "\n",
    "# n = 4\n",
    "# vertices = np.arange(n)\n",
    "\n",
    "# define adjacency matrix\n",
    "# A = np.array([[random.randint(0,1) for _ in range(n)] for _ in range(n)])\n",
    "\n",
    "# A = np.array([[0, 1, 0, 0],\n",
    "#               [1, 0, 1, 1],\n",
    "#               [0, 1, 0, 1],\n",
    "#               [0, 1, 1, 0]])\n",
    "\n",
    "# set diagonal 0\n",
    "for i in range(n): A[i][i] = 0\n",
    "\n",
    "print(A)\n",
    "\n",
    "# check for diagonal, one vertex at a time\n",
    "@timeit\n",
    "def has_triangle(X):\n",
    "    dim = len(X[0])\n",
    "    for n in range(dim):\n",
    "        for i in range(dim):\n",
    "            if X[n][i] == 1:\n",
    "                for j in range(dim):\n",
    "                    if X[i][j] == 1 and j != n:\n",
    "                        if X[n][j] == 1:\n",
    "                            print(\"There is a triangle between points {}, {}, and {}.\".format(n+1, i+1, j+1))\n",
    "                            return None\n",
    "    else:\n",
    "        print(\"There is no triangle.\")\n",
    "            \n",
    "has_triangle(A)"
   ]
  },
  {
   "cell_type": "code",
   "execution_count": 71,
   "metadata": {},
   "outputs": [
    {
     "name": "stdout",
     "output_type": "stream",
     "text": [
      "[[0. 0. 0. ... 0. 0. 0.]\n",
      " [0. 0. 0. ... 0. 0. 0.]\n",
      " [0. 0. 0. ... 0. 0. 0.]\n",
      " ...\n",
      " [0. 0. 0. ... 0. 0. 0.]\n",
      " [0. 0. 0. ... 0. 0. 0.]\n",
      " [0. 0. 0. ... 0. 0. 0.]]\n",
      "There is not a triangle.\n",
      "'has_triangle'  124.25 ms\n"
     ]
    }
   ],
   "source": [
    "# Faster, smart way\n",
    "\n",
    "import numpy as np\n",
    "import random\n",
    "\n",
    "# n = 4\n",
    "# vertices = np.arange(n)\n",
    "\n",
    "# define adjacency matrix\n",
    "# A = np.array([[random.randint(0,1) for _ in range(n)] for _ in range(n)])\n",
    "\n",
    "# A = np.array([[0, 1, 0, 0],\n",
    "#               [1, 0, 1, 1],\n",
    "#               [0, 1, 0, 1],\n",
    "#               [0, 1, 1, 0]])\n",
    "\n",
    "# set diagonal 0\n",
    "for i in range(n): A[i][i] = 0\n",
    "\n",
    "print(A)\n",
    "\n",
    "# check existence with linear algebra\n",
    "@timeit\n",
    "def has_triangle(X):\n",
    "    dim = len(X[0])\n",
    "    \n",
    "    # calculate X^2\n",
    "    B = X.dot(X)\n",
    "\n",
    "    # check if both A[i][j] and B[i][j] are non zero\n",
    "    for i in range(dim):\n",
    "        for j in range(dim):\n",
    "            if B[i][j] == 1 and X[i][j] == 1:\n",
    "                print(\"There is a triangle.\")\n",
    "                return None\n",
    "    else:\n",
    "        print(\"There is not a triangle.\")\n",
    "\n",
    "has_triangle(A)"
   ]
  },
  {
   "cell_type": "code",
   "execution_count": 46,
   "metadata": {},
   "outputs": [],
   "source": [
    "# don't worry about this\n",
    "\n",
    "import time\n",
    "\n",
    "def timeit(method):\n",
    "    def timed(*args, **kw):\n",
    "        ts = time.time()\n",
    "        result = method(*args, **kw)\n",
    "        te = time.time()\n",
    "        if 'log_time' in kw:\n",
    "            name = kw.get('log_name', method.__name__.upper())\n",
    "            kw['log_time'][name] = int((te - ts) * 1000)\n",
    "        else:\n",
    "            print ('%r  %2.2f ms' % \\\n",
    "                  (method.__name__, (te - ts) * 1000))\n",
    "        return result\n",
    "    return timed"
   ]
  },
  {
   "cell_type": "code",
   "execution_count": null,
   "metadata": {},
   "outputs": [],
   "source": []
  }
 ],
 "metadata": {
  "kernelspec": {
   "display_name": "Python 3",
   "language": "python",
   "name": "python3"
  },
  "language_info": {
   "codemirror_mode": {
    "name": "ipython",
    "version": 3
   },
   "file_extension": ".py",
   "mimetype": "text/x-python",
   "name": "python",
   "nbconvert_exporter": "python",
   "pygments_lexer": "ipython3",
   "version": "3.6.9"
  }
 },
 "nbformat": 4,
 "nbformat_minor": 2
}
